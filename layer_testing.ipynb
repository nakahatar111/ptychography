{
 "cells": [
  {
   "cell_type": "code",
   "execution_count": 4,
   "metadata": {},
   "outputs": [
    {
     "name": "stderr",
     "output_type": "stream",
     "text": [
      "/home/rnakaha2/.local/lib/python3.6/site-packages/tqdm/auto.py:22: TqdmWarning: IProgress not found. Please update jupyter and ipywidgets. See https://ipywidgets.readthedocs.io/en/stable/user_install.html\n",
      "  from .autonotebook import tqdm as notebook_tqdm\n"
     ]
    }
   ],
   "source": [
    "import torch\n",
    "import torch.nn as nn"
   ]
  },
  {
   "attachments": {},
   "cell_type": "markdown",
   "metadata": {},
   "source": [
    "Reducing Size of Output"
   ]
  },
  {
   "cell_type": "code",
   "execution_count": 21,
   "metadata": {},
   "outputs": [
    {
     "name": "stdout",
     "output_type": "stream",
     "text": [
      "torch.Size([1, 1, 7100, 7100])\n",
      "(1, 1, 1775, 1775)\n"
     ]
    }
   ],
   "source": [
    "random = torch.rand(1,1,7100,7100)\n",
    "print(random.shape)\n",
    "\n",
    "compressed_img = nn.functional.max_pool2d(random, 3, stride=4, padding=0).numpy()\n",
    "\n",
    "print(compressed_img.shape)\n"
   ]
  },
  {
   "cell_type": "code",
   "execution_count": 16,
   "metadata": {},
   "outputs": [
    {
     "name": "stdout",
     "output_type": "stream",
     "text": [
      "torch.Size([1, 1, 650, 650])\n",
      "(1, 1, 325, 325)\n"
     ]
    }
   ],
   "source": [
    "random = torch.rand(1,1,650,650)\n",
    "print(random.shape)\n",
    "\n",
    "compressed_img = nn.functional.max_pool2d(random, 3, stride=2, padding=1).numpy()\n",
    "\n",
    "print(compressed_img.shape)\n"
   ]
  },
  {
   "cell_type": "code",
   "execution_count": null,
   "metadata": {},
   "outputs": [],
   "source": [
    "def ConvTransBlock(in_channel, out_channel, kernel_size, stride, padding):\n",
    "  return nn.Sequential(\n",
    "      nn.ConvTranspose2d(in_channel, out_channel, kernel_size=kernel_size, stride=stride, padding=padding, bias=False),\n",
    "      nn.BatchNorm2d(out_channel),\n",
    "      nn.LeakyReLU(negative_slope=0.01, inplace=True)\n",
    "  )"
   ]
  },
  {
   "cell_type": "code",
   "execution_count": null,
   "metadata": {},
   "outputs": [],
   "source": [
    "#unflatten = nn.Unflatten(1,(128, 6, 6))\n",
    "random = torch.rand(1,128,6,6)\n",
    "print(random.shape)\n",
    "# ConvTransBlock(in_channel, out_channel, kernel_size, stride, padding):\n",
    "  \n",
    "ConvBlock1 = ConvTransBlock(128, 64, 5, 3, 1)\n",
    "x = ConvBlock1(random)\n",
    "print(x.shape)\n",
    "\n",
    "ConvBlock2 = ConvTransBlock(64, 32, 5, 3, 1)\n",
    "x = ConvBlock2(x)\n",
    "print(x.shape)\n",
    "\n",
    "ConvBlock3 = ConvTransBlock(32, 16, 5, 3, 1)\n",
    "x = ConvBlock3(x)\n",
    "print(x.shape)\n",
    "\n",
    "ConvBlock4 = ConvTransBlock(16, 1, 6, 4, 1)\n",
    "x = ConvBlock4(x)\n",
    "print(x.shape)\n",
    "\n",
    "Conv2d = nn.Conv2d(1, 1, 1, stride=1, padding=1)\n",
    "x = Conv2d(x)\n",
    "print(x.shape)"
   ]
  },
  {
   "cell_type": "code",
   "execution_count": 2,
   "metadata": {},
   "outputs": [
    {
     "name": "stdout",
     "output_type": "stream",
     "text": [
      "torch.Size([1, 1, 7100, 7100])\n",
      "torch.Size([1, 16, 2366, 2366])\n",
      "torch.Size([1, 32, 393, 393])\n",
      "torch.Size([1, 64, 65, 65])\n",
      "torch.Size([1, 128, 10, 10])\n"
     ]
    }
   ],
   "source": [
    "random = torch.rand(1,1,7100,7100)\n",
    "print(random.shape)\n",
    "conv = nn.Conv2d(1, 16, 5, stride=3, padding=1)\n",
    "max = nn.MaxPool2d(3, stride=2)\n",
    "output = conv(random)\n",
    "#output = max(output)\n",
    "print(output.shape)\n",
    "conv2 = nn.Conv2d(16, 32, 5, stride=3, padding=1)\n",
    "max = nn.MaxPool2d(3, stride=2)\n",
    "output2 = conv2(output)\n",
    "output2 = max(output2)\n",
    "print(output2.shape)\n",
    "conv3 = nn.Conv2d(32, 64, 5, stride=3, padding=1)\n",
    "max = nn.MaxPool2d(3, stride=2)\n",
    "output3 = conv3(output2)\n",
    "output3 = max(output3)\n",
    "\n",
    "print(output3.shape)\n",
    "\n",
    "conv4 =  nn.Conv2d(64, 128, 5, stride=3, padding=1)\n",
    "max = nn.MaxPool2d(3, stride=2)\n",
    "output4 = conv4(output3)\n",
    "output4 = max(output4)\n",
    "print(output4.shape)"
   ]
  },
  {
   "cell_type": "code",
   "execution_count": 1,
   "metadata": {},
   "outputs": [
    {
     "ename": "NameError",
     "evalue": "name 'torch' is not defined",
     "output_type": "error",
     "traceback": [
      "\u001b[0;31m---------------------------------------------------------------------------\u001b[0m",
      "\u001b[0;31mNameError\u001b[0m                                 Traceback (most recent call last)",
      "\u001b[0;32m<ipython-input-1-21525bdc0cb1>\u001b[0m in \u001b[0;36m<module>\u001b[0;34m\u001b[0m\n\u001b[0;32m----> 1\u001b[0;31m \u001b[0mrandom\u001b[0m \u001b[0;34m=\u001b[0m \u001b[0mtorch\u001b[0m\u001b[0;34m.\u001b[0m\u001b[0mrand\u001b[0m\u001b[0;34m(\u001b[0m\u001b[0;36m1\u001b[0m\u001b[0;34m,\u001b[0m\u001b[0;36m128\u001b[0m\u001b[0;34m,\u001b[0m\u001b[0;36m10\u001b[0m\u001b[0;34m,\u001b[0m\u001b[0;36m10\u001b[0m\u001b[0;34m)\u001b[0m\u001b[0;34m\u001b[0m\u001b[0;34m\u001b[0m\u001b[0m\n\u001b[0m\u001b[1;32m      2\u001b[0m \u001b[0mprint\u001b[0m\u001b[0;34m(\u001b[0m\u001b[0mrandom\u001b[0m\u001b[0;34m.\u001b[0m\u001b[0mshape\u001b[0m\u001b[0;34m)\u001b[0m\u001b[0;34m\u001b[0m\u001b[0;34m\u001b[0m\u001b[0m\n\u001b[1;32m      3\u001b[0m \u001b[0;34m\u001b[0m\u001b[0m\n\u001b[1;32m      4\u001b[0m \u001b[0mconv\u001b[0m \u001b[0;34m=\u001b[0m \u001b[0mnn\u001b[0m\u001b[0;34m.\u001b[0m\u001b[0mConvTranspose2d\u001b[0m\u001b[0;34m(\u001b[0m\u001b[0;36m128\u001b[0m\u001b[0;34m,\u001b[0m \u001b[0;36m64\u001b[0m\u001b[0;34m,\u001b[0m \u001b[0;36m5\u001b[0m\u001b[0;34m,\u001b[0m \u001b[0mstride\u001b[0m\u001b[0;34m=\u001b[0m\u001b[0;36m2\u001b[0m\u001b[0;34m,\u001b[0m \u001b[0mpadding\u001b[0m\u001b[0;34m=\u001b[0m\u001b[0;36m1\u001b[0m\u001b[0;34m)\u001b[0m\u001b[0;34m\u001b[0m\u001b[0;34m\u001b[0m\u001b[0m\n\u001b[1;32m      5\u001b[0m \u001b[0mup\u001b[0m \u001b[0;34m=\u001b[0m \u001b[0mnn\u001b[0m\u001b[0;34m.\u001b[0m\u001b[0mUpsample\u001b[0m\u001b[0;34m(\u001b[0m\u001b[0mscale_factor\u001b[0m\u001b[0;34m=\u001b[0m\u001b[0;36m2\u001b[0m\u001b[0;34m,\u001b[0m \u001b[0mmode\u001b[0m\u001b[0;34m=\u001b[0m\u001b[0;34m'bilinear'\u001b[0m\u001b[0;34m,\u001b[0m \u001b[0malign_corners\u001b[0m\u001b[0;34m=\u001b[0m\u001b[0;32mTrue\u001b[0m\u001b[0;34m)\u001b[0m\u001b[0;34m\u001b[0m\u001b[0;34m\u001b[0m\u001b[0m\n",
      "\u001b[0;31mNameError\u001b[0m: name 'torch' is not defined"
     ]
    }
   ],
   "source": [
    "random = torch.rand(1,128,10,10)\n",
    "print(random.shape)\n",
    "\n",
    "conv = nn.ConvTranspose2d(128, 64, 5, stride=2, padding=1)\n",
    "up = nn.Upsample(scale_factor=2, mode='bilinear', align_corners=True)\n",
    "output = conv(random)\n",
    "output = up(output)\n",
    "print(output.shape)\n",
    "\n",
    "conv2 = nn.ConvTranspose2d(64, 32, 4, stride=2, padding=2)\n",
    "output2 = conv2(output)\n",
    "print(output2.shape)\n",
    "\n",
    "conv3 = nn.ConvTranspose2d(32, 16, 5, stride=2, padding=2)\n",
    "up = nn.Upsample(scale_factor=2, mode='bilinear', align_corners=True)\n",
    "output3 = conv3(output2)\n",
    "output3 = up(output3)\n",
    "print(output3.shape)\n",
    "\n",
    "conv4 =  nn.ConvTranspose2d(16, 1, 4, stride=2, padding=2)\n",
    "output4 = conv4(output3)\n",
    "print(output4.shape)\n",
    "\n",
    "print(\"Goal: 650x650\")"
   ]
  },
  {
   "cell_type": "code",
   "execution_count": 55,
   "metadata": {},
   "outputs": [
    {
     "name": "stdout",
     "output_type": "stream",
     "text": [
      "torch.Size([1, 1, 1775, 1775])\n",
      "torch.Size([1, 16, 295, 295])\n",
      "torch.Size([1, 32, 146, 146])\n",
      "torch.Size([1, 64, 23, 23])\n",
      "torch.Size([1, 128, 10, 10])\n",
      "Goal: 128x10x10\n"
     ]
    }
   ],
   "source": [
    "random = torch.rand(1,1,1775,1775)\n",
    "print(random.shape)\n",
    "max = nn.MaxPool2d(3, stride=2)\n",
    "\n",
    "conv = nn.Conv2d(1, 16, 5, stride=3)\n",
    "output = conv(random)\n",
    "output = max(output)\n",
    "print(output.shape)\n",
    "\n",
    "conv2 = nn.Conv2d(16, 32, 5, stride=2)\n",
    "output2 = conv2(output)\n",
    "print(output2.shape)\n",
    "\n",
    "conv3 = nn.Conv2d(32, 64, 5, stride=3)\n",
    "output3 = conv3(output2)\n",
    "output3 = max(output3)\n",
    "print(output3.shape)\n",
    "\n",
    "conv4 =  nn.Conv2d(64, 128, 5, stride=2)\n",
    "output4 = conv4(output3)\n",
    "print(output4.shape)\n",
    "\n",
    "print(\"Goal: 128x10x10\")"
   ]
  }
 ],
 "metadata": {
  "kernelspec": {
   "display_name": "Python 3",
   "language": "python",
   "name": "python3"
  },
  "language_info": {
   "codemirror_mode": {
    "name": "ipython",
    "version": 3
   },
   "file_extension": ".py",
   "mimetype": "text/x-python",
   "name": "python",
   "nbconvert_exporter": "python",
   "pygments_lexer": "ipython3",
   "version": "3.6.9 (default, Jun 29 2022, 11:45:57) \n[GCC 8.4.0]"
  },
  "orig_nbformat": 4,
  "vscode": {
   "interpreter": {
    "hash": "767d51c1340bd893661ea55ea3124f6de3c7a262a8b4abca0554b478b1e2ff90"
   }
  }
 },
 "nbformat": 4,
 "nbformat_minor": 2
}
