{
 "cells": [
  {
   "cell_type": "code",
   "execution_count": 1,
   "metadata": {},
   "outputs": [],
   "source": [
    "import torch\n",
    "import torch.nn as nn"
   ]
  },
  {
   "cell_type": "code",
   "execution_count": 2,
   "metadata": {},
   "outputs": [
    {
     "name": "stdout",
     "output_type": "stream",
     "text": [
      "torch.Size([1, 1, 7100, 7100])\n",
      "torch.Size([1, 16, 2366, 2366])\n",
      "torch.Size([1, 32, 393, 393])\n",
      "torch.Size([1, 64, 65, 65])\n",
      "torch.Size([1, 128, 10, 10])\n"
     ]
    }
   ],
   "source": [
    "random = torch.rand(1,1,7100,7100)\n",
    "print(random.shape)\n",
    "conv = nn.Conv2d(1, 16, 5, stride=3, padding=1)\n",
    "max = nn.MaxPool2d(3, stride=2)\n",
    "output = conv(random)\n",
    "#output = max(output)\n",
    "print(output.shape)\n",
    "conv2 = nn.Conv2d(16, 32, 5, stride=3, padding=1)\n",
    "max = nn.MaxPool2d(3, stride=2)\n",
    "output2 = conv2(output)\n",
    "output2 = max(output2)\n",
    "print(output2.shape)\n",
    "conv3 = nn.Conv2d(32, 64, 5, stride=3, padding=1)\n",
    "max = nn.MaxPool2d(3, stride=2)\n",
    "output3 = conv3(output2)\n",
    "output3 = max(output3)\n",
    "\n",
    "print(output3.shape)\n",
    "\n",
    "conv4 =  nn.Conv2d(64, 128, 5, stride=3, padding=1)\n",
    "max = nn.MaxPool2d(3, stride=2)\n",
    "output4 = conv4(output3)\n",
    "output4 = max(output4)\n",
    "print(output4.shape)"
   ]
  },
  {
   "cell_type": "code",
   "execution_count": 3,
   "metadata": {},
   "outputs": [
    {
     "name": "stdout",
     "output_type": "stream",
     "text": [
      "torch.Size([1, 128, 10, 10])\n",
      "torch.Size([1, 64, 42, 42])\n",
      "torch.Size([1, 32, 82, 82])\n",
      "torch.Size([1, 16, 326, 326])\n",
      "torch.Size([1, 1, 650, 650])\n",
      "Goal: 650x650\n"
     ]
    }
   ],
   "source": [
    "random = torch.rand(1,128,10,10)\n",
    "print(random.shape)\n",
    "\n",
    "conv = nn.ConvTranspose2d(128, 64, 5, stride=2, padding=1)\n",
    "up = nn.Upsample(scale_factor=2, mode='bilinear', align_corners=True)\n",
    "output = conv(random)\n",
    "output = up(output)\n",
    "print(output.shape)\n",
    "\n",
    "conv2 = nn.ConvTranspose2d(64, 32, 4, stride=2, padding=2)\n",
    "output2 = conv2(output)\n",
    "print(output2.shape)\n",
    "\n",
    "conv3 = nn.ConvTranspose2d(32, 16, 5, stride=2, padding=2)\n",
    "up = nn.Upsample(scale_factor=2, mode='bilinear', align_corners=True)\n",
    "output3 = conv3(output2)\n",
    "output3 = up(output3)\n",
    "print(output3.shape)\n",
    "\n",
    "conv4 =  nn.ConvTranspose2d(16, 1, 4, stride=2, padding=2)\n",
    "output4 = conv4(output3)\n",
    "print(output4.shape)\n",
    "\n",
    "print(\"Goal: 650x650\")"
   ]
  }
 ],
 "metadata": {
  "kernelspec": {
   "display_name": "Python 3",
   "language": "python",
   "name": "python3"
  },
  "language_info": {
   "codemirror_mode": {
    "name": "ipython",
    "version": 3
   },
   "file_extension": ".py",
   "mimetype": "text/x-python",
   "name": "python",
   "nbconvert_exporter": "python",
   "pygments_lexer": "ipython3",
   "version": "3.6.9 (default, Jun 29 2022, 11:45:57) \n[GCC 8.4.0]"
  },
  "orig_nbformat": 4,
  "vscode": {
   "interpreter": {
    "hash": "767d51c1340bd893661ea55ea3124f6de3c7a262a8b4abca0554b478b1e2ff90"
   }
  }
 },
 "nbformat": 4,
 "nbformat_minor": 2
}
