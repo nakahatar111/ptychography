{
 "cells": [
  {
   "cell_type": "code",
   "execution_count": null,
   "metadata": {},
   "outputs": [],
   "source": [
    "import os\n",
    "import cv2\n",
    "import sys\n",
    "import torch\n",
    "import torch.nn as nn\n",
    "import numpy as np\n",
    "import matplotlib.pyplot as plt\n",
    "from torch import optim\n",
    "#from torchvision import transforms\n",
    "from torch.utils.data import Dataset, DataLoader\n",
    "from torchsummary import summary\n",
    "import ViT_Model\n",
    "\n",
    "device = 'cuda' if torch.cuda.is_available() else 'cpu'\n",
    "device "
   ]
  },
  {
   "attachments": {},
   "cell_type": "markdown",
   "metadata": {},
   "source": [
    "Load Data"
   ]
  },
  {
   "cell_type": "code",
   "execution_count": null,
   "metadata": {},
   "outputs": [],
   "source": [
    "class SegData(Dataset):\n",
    "  def __init__(self):\n",
    "    self.diff_grid = torch.tensor(np.load('../dataset/compressed_diff_grid.npz')['arr_0']).float()\n",
    "    labels = np.load('../dataset/norm_diffraction_label.npz')['arr_0']\n",
    "    self.phase = torch.tensor(labels[:, 0]).float()\n",
    "    self.amp = torch.tensor(labels[:, 1]).float()\n",
    "  def __len__(self):\n",
    "    return self.diff_grid.shape[0]\n",
    "  def __getitem__(self, i):\n",
    "    return (self.diff_grid[i], self.phase[i], self.amp[i])"
   ]
  },
  {
   "cell_type": "code",
   "execution_count": null,
   "metadata": {},
   "outputs": [],
   "source": [
    "trn_ds = SegData()\n",
    "trn_dl = DataLoader(trn_ds, batch_size=2, shuffle=True)"
   ]
  },
  {
   "cell_type": "code",
   "execution_count": null,
   "metadata": {},
   "outputs": [],
   "source": [
    "lossfn =  nn.BCELoss(reduction='mean')\n",
    "\n",
    "def ModelLoss(preds1, targets1):\n",
    "  loss1 = lossfn(preds1, targets1)\n",
    "  return loss1"
   ]
  },
  {
   "cell_type": "code",
   "execution_count": null,
   "metadata": {},
   "outputs": [],
   "source": [
    "ViTModel = ViT_Model.ViTGenerator().to(device)\n",
    "LR = 0.00013\n",
    "step_size = 8000\n",
    "criterion = lossfn\n",
    "\n",
    "optimizer = optim.AdamW(ViTModel.parameters(), lr=LR, betas=(0.59418, 0.8699))\n",
    "scheduler = optim.lr_scheduler.CyclicLR(optimizer, base_lr=LR/10, max_lr=LR, step_size_up=step_size, cycle_momentum=False, mode='triangular2')"
   ]
  },
  {
   "cell_type": "code",
   "execution_count": null,
   "metadata": {},
   "outputs": [],
   "source": [
    "summary(ViTModel, (1, 1775, 1775))"
   ]
  },
  {
   "cell_type": "code",
   "execution_count": null,
   "metadata": {},
   "outputs": [],
   "source": [
    "num_epochs = 100\n",
    "\n",
    "for epoch in range(num_epochs):\n",
    "  for bx, data in enumerate(trn_dl):\n",
    "    diff, phase, amp = data.to(device)\n",
    "    ViTModel.train()\n",
    "    amp_pred = ViTModel(diff)\n",
    "    \n",
    "    loss = ModelLoss(amp_pred, amp)\n",
    "\n",
    "    optimizer.zero_grad()\n",
    "    loss.backward()\n",
    "    optimizer.step()\n",
    "    scheduler.step()\n",
    "\n",
    "    if((epoch+1) % 1 == 0):\n",
    "      print(\"Epoch: \", (epoch+1), \" Training Loss: \", round(loss.item(), 5))\n",
    "\n",
    "#torch.save(ViTModel.state_dict(), 'models/model_name.pth')"
   ]
  },
  {
   "cell_type": "code",
   "execution_count": null,
   "metadata": {},
   "outputs": [],
   "source": [
    "ViTModel.eval()\n",
    "amp_pred = ViTModel(diff)"
   ]
  },
  {
   "cell_type": "code",
   "execution_count": null,
   "metadata": {},
   "outputs": [],
   "source": [
    "f, ax = plt.subplots(2,4, figsize=(12, 12), facecolor='white')\n",
    "ax[0,0].set_ylabel('ViT', fontsize = 12.0)\n",
    "ax[1,0].set_ylabel('E-Pie (300 Iterations)', fontsize = 12.0)\n",
    "\n",
    "ax[0,0].imshow(amp_pred[0].cpu().detach().numpy().reshape((650,650)))\n",
    "ax[0,1].imshow(amp_pred[1].cpu().detach().numpy().reshape((650,650)))\n",
    "ax[0,2].imshow(amp_pred[2].cpu().detach().numpy().reshape((650,650)))\n",
    "ax[0,3].imshow(amp_pred[3].cpu().detach().numpy().reshape((650,650)))\n",
    "ax[1,0].imshow(amp[0].cpu().detach().numpy().reshape((650,650)))\n",
    "ax[1,1].imshow(amp[1].cpu().detach().numpy().reshape((650,650)))\n",
    "ax[1,2].imshow(amp[2].cpu().detach().numpy().reshape((650,650)))\n",
    "ax[1,3].imshow(amp[3].cpu().detach().numpy().reshape((650,650)))"
   ]
  }
 ],
 "metadata": {
  "kernelspec": {
   "display_name": "Python 3",
   "language": "python",
   "name": "python3"
  },
  "language_info": {
   "codemirror_mode": {
    "name": "ipython",
    "version": 3
   },
   "file_extension": ".py",
   "mimetype": "text/x-python",
   "name": "python",
   "nbconvert_exporter": "python",
   "pygments_lexer": "ipython3",
   "version": "3.6.9"
  },
  "orig_nbformat": 4,
  "vscode": {
   "interpreter": {
    "hash": "767d51c1340bd893661ea55ea3124f6de3c7a262a8b4abca0554b478b1e2ff90"
   }
  }
 },
 "nbformat": 4,
 "nbformat_minor": 2
}
