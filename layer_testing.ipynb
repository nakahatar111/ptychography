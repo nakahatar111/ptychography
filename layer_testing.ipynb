{
 "cells": [
  {
   "cell_type": "code",
   "execution_count": 1,
   "metadata": {},
   "outputs": [],
   "source": [
    "import torch\n",
    "import torch.nn as nn"
   ]
  },
  {
   "cell_type": "code",
   "execution_count": 2,
   "metadata": {},
   "outputs": [],
   "source": [
    "def ConvTransBlock(in_channel, out_channel, kernel_size, stride, padding):\n",
    "  return nn.Sequential(\n",
    "      nn.ConvTranspose2d(in_channel, out_channel, kernel_size=kernel_size, stride=stride, padding=padding, bias=False),\n",
    "      nn.GELU(),\n",
    "      nn.Conv2d(out_channel, out_channel, 3, stride=1, padding=1),\n",
    "      nn.BatchNorm2d(out_channel),\n",
    "      nn.LeakyReLU(negative_slope=0.01, inplace=True)\n",
    "  )"
   ]
  },
  {
   "cell_type": "code",
   "execution_count": 3,
   "metadata": {},
   "outputs": [
    {
     "name": "stdout",
     "output_type": "stream",
     "text": [
      "torch.Size([1, 128, 6, 6])\n",
      "torch.Size([1, 64, 14, 14])\n",
      "torch.Size([1, 32, 30, 30])\n",
      "torch.Size([1, 16, 62, 62])\n",
      "torch.Size([1, 1, 126, 126])\n",
      "torch.Size([1, 1, 128, 128])\n"
     ]
    }
   ],
   "source": [
    "#unflatten = nn.Unflatten(1,(128, 6, 6))\n",
    "\n",
    "\n",
    "random = torch.rand(1,128,6,6)\n",
    "print(random.shape)\n",
    "# ConvTransBlock(in_channel, out_channel, kernel_size, stride, padding):\n",
    "  \n",
    "ConvBlock1 = ConvTransBlock(128, 64, 4, 2, 0)\n",
    "x = ConvBlock1(random)\n",
    "print(x.shape)\n",
    "\n",
    "ConvBlock2 = ConvTransBlock(64, 32, 4, 2, 0)\n",
    "x = ConvBlock2(x)\n",
    "print(x.shape)\n",
    "\n",
    "ConvBlock3 = ConvTransBlock(32, 16, 4, 2, 0)\n",
    "x = ConvBlock3(x)\n",
    "print(x.shape)\n",
    "\n",
    "ConvBlock4 = ConvTransBlock(16, 1, 4, 2, 0)\n",
    "x = ConvBlock4(x)\n",
    "print(x.shape)\n",
    "\n",
    "Conv2d = nn.Conv2d(1, 1, 1, stride=1, padding=1)\n",
    "x = Conv2d(x)\n",
    "print(x.shape)"
   ]
  },
  {
   "cell_type": "code",
   "execution_count": 10,
   "metadata": {},
   "outputs": [
    {
     "name": "stdout",
     "output_type": "stream",
     "text": [
      "torch.Size([1, 1, 7100, 7100])\n",
      "torch.Size([1, 16, 2366, 2366])\n",
      "torch.Size([1, 32, 393, 393])\n",
      "torch.Size([1, 64, 65, 65])\n",
      "torch.Size([1, 128, 10, 10])\n"
     ]
    }
   ],
   "source": [
    "random = torch.rand(1,1,7100,7100)\n",
    "print(random.shape)\n",
    "conv = nn.Conv2d(1, 16, 5, stride=3, padding=1)\n",
    "max = nn.MaxPool2d(3, stride=2)\n",
    "output = conv(random)\n",
    "#output = max(output)\n",
    "print(output.shape)\n",
    "conv2 = nn.Conv2d(16, 32, 5, stride=3, padding=1)\n",
    "max = nn.MaxPool2d(3, stride=2)\n",
    "output2 = conv2(output)\n",
    "output2 = max(output2)\n",
    "print(output2.shape)\n",
    "conv3 = nn.Conv2d(32, 64, 5, stride=3, padding=1)\n",
    "max = nn.MaxPool2d(3, stride=2)\n",
    "output3 = conv3(output2)\n",
    "output3 = max(output3)\n",
    "\n",
    "print(output3.shape)\n",
    "\n",
    "conv4 =  nn.Conv2d(64, 128, 5, stride=3, padding=1)\n",
    "max = nn.MaxPool2d(3, stride=2)\n",
    "output4 = conv4(output3)\n",
    "output4 = max(output4)\n",
    "print(output4.shape)"
   ]
  },
  {
   "cell_type": "code",
   "execution_count": 22,
   "metadata": {},
   "outputs": [
    {
     "name": "stdout",
     "output_type": "stream",
     "text": [
      "torch.Size([1, 128, 6, 6])\n",
      "torch.Size([1, 64, 14, 14])\n",
      "torch.Size([1, 32, 30, 30])\n",
      "torch.Size([1, 16, 62, 62])\n",
      "torch.Size([1, 1, 126, 126])\n",
      "torch.Size([1, 1, 128, 128])\n",
      "Goal: 650x650 -> 128x128\n"
     ]
    }
   ],
   "source": [
    "random = torch.rand(1,128,6,6)\n",
    "print(random.shape)\n",
    "\n",
    "conv = nn.ConvTranspose2d(128, 64, 4, stride=2, padding=0)\n",
    "output = conv(random)\n",
    "print(output.shape)\n",
    "\n",
    "conv2 = nn.ConvTranspose2d(64, 32, 4, stride=2, padding=0)\n",
    "output2 = conv2(output)\n",
    "print(output2.shape)\n",
    "\n",
    "conv3 = nn.ConvTranspose2d(32, 16, 4, stride=2, padding=0)\n",
    "output3 = conv3(output2)\n",
    "print(output3.shape)\n",
    "\n",
    "conv4 =  nn.ConvTranspose2d(16, 1, 4, stride=2, padding=0)\n",
    "output4 = conv4(output3)\n",
    "print(output4.shape)\n",
    "\n",
    "\n",
    "Conv2d = nn.Conv2d(1, 1, 1, stride=1, padding=1)\n",
    "x = Conv2d(output4)\n",
    "print(x.shape)\n",
    "\n",
    "print(\"Goal: 650x650 -> 128x128\")"
   ]
  },
  {
   "cell_type": "code",
   "execution_count": 67,
   "metadata": {},
   "outputs": [
    {
     "name": "stdout",
     "output_type": "stream",
     "text": [
      "torch.Size([1, 1, 1000, 1000])\n",
      "torch.Size([1, 8, 249, 249])\n",
      "torch.Size([1, 16, 123, 123])\n",
      "torch.Size([1, 32, 30, 30])\n",
      "torch.Size([1, 64, 14, 14])\n",
      "torch.Size([1, 128, 6, 6])\n",
      "Goal: 128x6x6\n"
     ]
    }
   ],
   "source": [
    "random = torch.rand(1,1,1000,1000)\n",
    "print(random.shape)\n",
    "max = nn.MaxPool2d(4, stride=2, padding=1)\n",
    "\n",
    "conv = nn.Conv2d(1, 8, 4, stride=2)\n",
    "output = conv(random)\n",
    "output = max(output) #max\n",
    "print(output.shape)\n",
    "\n",
    "conv2 = nn.Conv2d(8, 16, 4, stride=2)\n",
    "output2 = conv2(output)\n",
    "print(output2.shape)\n",
    "\n",
    "conv3 = nn.Conv2d(16, 32, 4, stride=2)\n",
    "output3 = conv3(output2)\n",
    "output3 = max(output3) #max\n",
    "print(output3.shape)\n",
    "\n",
    "conv4 =  nn.Conv2d(32, 64, 4, stride=2)\n",
    "output4 = conv4(output3)\n",
    "print(output4.shape)\n",
    "\n",
    "conv5 =  nn.Conv2d(64, 128, 4, stride=2)\n",
    "output5 = conv5(output4)\n",
    "print(output5.shape)\n",
    "\n",
    "print(\"Goal: 128x6x6\")"
   ]
  }
 ],
 "metadata": {
  "kernelspec": {
   "display_name": "Python 3",
   "language": "python",
   "name": "python3"
  },
  "language_info": {
   "codemirror_mode": {
    "name": "ipython",
    "version": 3
   },
   "file_extension": ".py",
   "mimetype": "text/x-python",
   "name": "python",
   "nbconvert_exporter": "python",
   "pygments_lexer": "ipython3",
   "version": "3.6.9"
  },
  "orig_nbformat": 4,
  "vscode": {
   "interpreter": {
    "hash": "767d51c1340bd893661ea55ea3124f6de3c7a262a8b4abca0554b478b1e2ff90"
   }
  }
 },
 "nbformat": 4,
 "nbformat_minor": 2
}
